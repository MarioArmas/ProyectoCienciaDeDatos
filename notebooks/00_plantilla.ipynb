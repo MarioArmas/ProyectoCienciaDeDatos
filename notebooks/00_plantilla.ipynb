{
 "cells": [
  {
   "cell_type": "code",
   "execution_count": null,
   "metadata": {},
   "outputs": [],
   "source": [
    "import pandas as pd\n",
    "import seaborn as sns\n",
    "import numpy as np\n",
    "import matplotlib.pyplot as plt\n",
    "from sklearn.preprocessing import LabelEncoder\n",
    "from sklearn.model_selection import train_test_split\n",
    "from sklearn.linear_model import LogisticRegression\n",
    "from sklearn import metrics\n",
    "from sklearn.metrics import f1_score\n",
    "from sklearn.ensemble import RandomForestClassifier\n",
    "from sklearn.model_selection import cross_val_score\n",
    "from sklearn.metrics import root_mean_squared_error"
   ]
  },
  {
   "cell_type": "code",
   "execution_count": null,
   "metadata": {},
   "outputs": [],
   "source": [
    "#df = pd.read_csv('../data/sample submission.csv')\n",
    "df = pd.read_csv('../data/data.csv', sep=';', encoding='latin1')\n",
    "print(df)"
   ]
  },
  {
   "cell_type": "markdown",
   "metadata": {},
   "source": [
    "# DATOS FALTANTES"
   ]
  },
  {
   "cell_type": "code",
   "execution_count": null,
   "metadata": {},
   "outputs": [],
   "source": [
    "# verificar datos faltantes\n",
    "for col in df.columns.to_list():\n",
    "  calc = (df[col].isna().sum()/df.shape[0])*100\n",
    "  print(f'{col} missing Values: {calc}%')"
   ]
  },
  {
   "cell_type": "markdown",
   "metadata": {},
   "source": [
    "# VARIABLES CATEGÓRICAS"
   ]
  },
  {
   "cell_type": "markdown",
   "metadata": {},
   "source": [
    "## HistPlot"
   ]
  },
  {
   "cell_type": "code",
   "execution_count": null,
   "metadata": {},
   "outputs": [],
   "source": [
    "sns.histplot(df['Category'])"
   ]
  },
  {
   "cell_type": "code",
   "execution_count": null,
   "metadata": {},
   "outputs": [],
   "source": [
    "sns.histplot(df['Manufacturer'])"
   ]
  },
  {
   "cell_type": "code",
   "execution_count": null,
   "metadata": {},
   "outputs": [],
   "source": [
    "sns.histplot(df['Model'])"
   ]
  },
  {
   "cell_type": "code",
   "execution_count": null,
   "metadata": {},
   "outputs": [],
   "source": [
    "sns.histplot(df['Prod. year'])"
   ]
  },
  {
   "cell_type": "code",
   "execution_count": null,
   "metadata": {},
   "outputs": [],
   "source": [
    "sns.histplot(df['Gear box type'])"
   ]
  },
  {
   "cell_type": "code",
   "execution_count": null,
   "metadata": {},
   "outputs": [],
   "source": [
    "sns.histplot(df['Leather interior'])"
   ]
  },
  {
   "cell_type": "code",
   "execution_count": null,
   "metadata": {},
   "outputs": [],
   "source": [
    "sns.histplot(df['Fuel type'])"
   ]
  },
  {
   "cell_type": "code",
   "execution_count": null,
   "metadata": {},
   "outputs": [],
   "source": [
    "sns.histplot(df['Engine volume'])"
   ]
  },
  {
   "cell_type": "code",
   "execution_count": null,
   "metadata": {},
   "outputs": [],
   "source": [
    "sns.histplot(df['Drive wheels'])"
   ]
  },
  {
   "cell_type": "code",
   "execution_count": null,
   "metadata": {},
   "outputs": [],
   "source": [
    "sns.histplot(df['Cylinders'])"
   ]
  },
  {
   "cell_type": "code",
   "execution_count": null,
   "metadata": {},
   "outputs": [],
   "source": [
    "sns.histplot(df['Mileage'])"
   ]
  },
  {
   "cell_type": "code",
   "execution_count": null,
   "metadata": {},
   "outputs": [],
   "source": [
    "sns.histplot(df['Doors'])"
   ]
  },
  {
   "cell_type": "code",
   "execution_count": null,
   "metadata": {},
   "outputs": [],
   "source": [
    "sns.histplot(df['Airbags'])"
   ]
  },
  {
   "cell_type": "code",
   "execution_count": null,
   "metadata": {},
   "outputs": [],
   "source": [
    "sns.histplot(df['Wheel'])"
   ]
  },
  {
   "cell_type": "code",
   "execution_count": null,
   "metadata": {},
   "outputs": [],
   "source": [
    "sns.histplot(df['Color'])"
   ]
  },
  {
   "cell_type": "code",
   "execution_count": null,
   "metadata": {},
   "outputs": [],
   "source": [
    "sns.histplot(df['Sales Fee'])"
   ]
  },
  {
   "cell_type": "markdown",
   "metadata": {},
   "source": [
    "## ENCODING"
   ]
  },
  {
   "cell_type": "code",
   "execution_count": null,
   "metadata": {},
   "outputs": [],
   "source": [
    "def label_encoding(dataset, column_name):\n",
    "    label_encoder = LabelEncoder()\n",
    "    dataset[column_name] = label_encoder.fit_transform(dataset[column_name])\n",
    "    return dataset, label_encoder\n",
    "\n",
    "def frequency_encoding(dataset, col):\n",
    "    freq = dataset[col].value_counts(normalize=True)\n",
    "    dataset[col] = dataset[col].map(freq)\n",
    "    return dataset, freq"
   ]
  },
  {
   "cell_type": "code",
   "execution_count": null,
   "metadata": {},
   "outputs": [],
   "source": [
    "df2 = df\n",
    "def to_zero(n):\n",
    "  if n == '-': return 0\n",
    "  return n\n",
    "\n",
    "def mileage_km(n):\n",
    "  return n.replace(' km', '')\n",
    "\n",
    "def turbo(n):\n",
    "  if 'Turbo' in n: return 1\n",
    "  return 0\n",
    "\n",
    "def engine_volume(n):\n",
    "  return n.replace(' Turbo', '')\n",
    "\n",
    "def doors(n):\n",
    "  if n == '>5': return 6\n",
    "  return n\n",
    "\n",
    "\n",
    "df2['Turbo'] = df2['Engine volume'].map(turbo)"
   ]
  },
  {
   "cell_type": "code",
   "execution_count": null,
   "metadata": {},
   "outputs": [],
   "source": [
    "\n",
    "df2['Sales Fee'] = df2['Sales Fee'].map(to_zero)\n",
    "df2['Mileage'] = df2['Mileage'].map(mileage_km)\n",
    "df2['Engine volume'] = df2['Engine volume'].map(engine_volume)\n",
    "df2['Doors'] = df2['Doors'].map(doors)\n",
    "\n",
    "df2.head(20)"
   ]
  },
  {
   "cell_type": "code",
   "execution_count": null,
   "metadata": {},
   "outputs": [],
   "source": [
    "df2, freq_category = frequency_encoding(df2, 'Category')\n",
    "df2, freq_manufacturer = frequency_encoding(df2, 'Manufacturer')\n",
    "df2, freq_model = frequency_encoding(df2, 'Model')\n",
    "# Prod. Year\n",
    "df2, freq_gear_box_type = frequency_encoding(df2, 'Gear box type')\n",
    "df2, label_leather_interior = label_encoding(df2, 'Leather interior')\n",
    "df2, freq_fuel_type = frequency_encoding(df2, 'Fuel type')\n",
    "# Engine volume: quitar el turbo y crear variable aparte\n",
    "df2, freq_drive_wheels = frequency_encoding(df2, 'Drive wheels')\n",
    "# Cylinders\n",
    "df2, freq_mileage = frequency_encoding(df2, 'Mileage') # quitar km\n",
    "# Doors: cambiar >5 por 4\n",
    "# Airbags\n",
    "df2, freq_wheel = frequency_encoding(df2, 'Wheel')\n",
    "df2, freq_color = frequency_encoding(df2, 'Color')\n",
    "# Sales Fee: cambiar '-' por '0'\n",
    "df2.head()"
   ]
  },
  {
   "cell_type": "markdown",
   "metadata": {},
   "source": [
    "# OUTLIERS"
   ]
  },
  {
   "cell_type": "code",
   "execution_count": null,
   "metadata": {},
   "outputs": [],
   "source": [
    "for col in df2.columns:\n",
    "    df2[col] = pd.to_numeric(df[col])"
   ]
  },
  {
   "cell_type": "code",
   "execution_count": null,
   "metadata": {},
   "outputs": [],
   "source": [
    "# Tratar con outliers\n",
    "def cuantificaOutliers(dataset):\n",
    "  for col in dataset.columns:\n",
    "    q1, q3 = np.percentile(dataset[col],[25,75])\n",
    "    iqr = q3-q1\n",
    "    lower_bound = q1 - (1.5*iqr)\n",
    "    upper_bound = q3 + (1.5*iqr)\n",
    "    outlier = dataset[(dataset[col]<lower_bound)|(dataset[col]>upper_bound)]\n",
    "    print(col, ' ', outlier.shape[0], ' ', outlier.shape[0]/dataset.shape[0]*100, '%')\n",
    "\n",
    "cuantificaOutliers(df2)"
   ]
  },
  {
   "cell_type": "code",
   "execution_count": null,
   "metadata": {},
   "outputs": [],
   "source": [
    "def Modifica_Outliers (dataset,columna):\n",
    "  q1, q3 = np.percentile(dataset[columna], [25, 75])\n",
    "  # Calculate the interquartile range\n",
    "  iqr = q3 - q1\n",
    "  # Calculate the lower and upper bounds\n",
    "  lower_limit = q1 - (1.5 * iqr)\n",
    "  upper_limit = q3 + (1.5 * iqr)\n",
    "\n",
    "  dataset[columna] = np.where(dataset[columna]>upper_limit,upper_limit,np.where(dataset[columna]<lower_limit,lower_limit,dataset[columna]))\n",
    "  return (dataset)\n",
    "\n",
    "df3 = df2\n",
    "Modifica_Outliers(df3,'bill_length_mm')\n",
    "cuantificaOutliers(df3)"
   ]
  },
  {
   "cell_type": "markdown",
   "metadata": {},
   "source": [
    "# ANÁLISIS DE CORRELACIÓN"
   ]
  },
  {
   "cell_type": "code",
   "execution_count": null,
   "metadata": {},
   "outputs": [],
   "source": [
    "# Realizar un análisis de correlación\n",
    "corr = df2.corr(method='pearson')\n",
    "mask = np.triu(np.ones_like(corr, dtype=bool))\n",
    "f, ax = plt.subplots(figsize=(11,9))\n",
    "cmap = sns.diverging_palette(230, 20, as_cmap=True)\n",
    "\n",
    "plt.tight_layout()\n",
    "sns.heatmap(corr, mask=mask, cmap=cmap, vmax=.3, center=0, square=True, linewidths=.5, cbar_kws={'shrink':0.5}, annot=True)"
   ]
  },
  {
   "cell_type": "code",
   "execution_count": null,
   "metadata": {},
   "outputs": [],
   "source": [
    "correlations = df2.corr()['price'].abs().sort_values(ascending=False)\n",
    "print(\"Correlación con la variable objetivo (Curado):\\n\", correlations)"
   ]
  },
  {
   "cell_type": "markdown",
   "metadata": {},
   "source": [
    "# VARIABLES"
   ]
  },
  {
   "cell_type": "code",
   "execution_count": null,
   "metadata": {},
   "outputs": [],
   "source": [
    "df3 = df2\n",
    "df3 = df3.drop('Model', axis=1)\n",
    "df3 = df3.drop('Engine volume', axis=1)\n",
    "df3 = df3.drop('Cylinders', axis=1)\n",
    "df3 = df3.drop('Sales Fee', axis=1)\n",
    "df3 = df3.drop('Color', axis=1)\n",
    "df3 = df3.drop('Mileage', axis=1)\n",
    "df3 = df3.drop('Fuel type', axis=1)\n",
    "df3 = df3.drop('Manufacturer', axis=1)\n",
    "df3 = df3.drop('Leather interior', axis=1)\n",
    "df3 = df3.drop('Drive wheels', axis=1)\n",
    "df3.head()"
   ]
  },
  {
   "cell_type": "code",
   "execution_count": null,
   "metadata": {},
   "outputs": [],
   "source": [
    "df4 = df3\n",
    "y = df4['price']\n",
    "x = df4.drop('price', axis=1)"
   ]
  },
  {
   "cell_type": "markdown",
   "metadata": {},
   "source": [
    "# MODELO"
   ]
  },
  {
   "cell_type": "code",
   "execution_count": null,
   "metadata": {},
   "outputs": [],
   "source": [
    "x_train,x_test,y_train,y_test = train_test_split(x,y,test_size=0.25,random_state=101)\n",
    "model = LogisticRegression(max_iter=100)\n",
    "model.fit(x_train,y_train)\n",
    "yhat = model.predict(x_test)"
   ]
  },
  {
   "cell_type": "markdown",
   "metadata": {},
   "source": [
    "# EVALUACIÓN"
   ]
  },
  {
   "cell_type": "code",
   "execution_count": null,
   "metadata": {},
   "outputs": [],
   "source": [
    "#print('Accuracy: ', metrics.accuracy_score(y_test,yhat))\n",
    "print((root_mean_squared_error(yhat, y_test)))"
   ]
  },
  {
   "cell_type": "code",
   "execution_count": null,
   "metadata": {},
   "outputs": [],
   "source": [
    "scores = cross_val_score(model, x, y, cv=10, scoring='f1_weighted')\n",
    "print(\"Scores de cada fold:\", scores)\n",
    "print(\"Promedio del F1 score:\", scores.mean())"
   ]
  },
  {
   "cell_type": "markdown",
   "metadata": {},
   "source": [
    "# OUTPUT FILE"
   ]
  },
  {
   "cell_type": "code",
   "execution_count": null,
   "metadata": {},
   "outputs": [],
   "source": [
    "\n",
    "df_eval = pd.read_csv('../data/Evaluation.csv', sep=';', encoding='latin1')\n",
    "\n",
    "df_eval['Turbo'] = df_eval['Engine volume'].map(turbo)\n",
    "\n",
    "df_eval['Sales Fee'] = df_eval['Sales Fee'].map(to_zero)\n",
    "df_eval['Mileage'] = df_eval['Mileage'].map(mileage_km)\n",
    "df_eval['Engine volume'] = df_eval['Engine volume'].map(engine_volume)\n",
    "df_eval['Doors'] = df_eval['Doors'].map(doors)\n",
    "\n",
    "df_eval['Category'] = df_eval['Category'].map(freq_category).fillna(0)\n",
    "df_eval['Manufacturer'] = df_eval['Manufacturer'].map(freq_manufacturer)\n",
    "df_eval['Model'] = df_eval['Model'].map(freq_model)\n",
    "df_eval['Gear box type'] = df_eval['Gear box type'].map(freq_gear_box_type)\n",
    "df_eval['Leather interior'] = label_leather_interior.transform(df_eval['Leather interior'])\n",
    "df_eval['Fuel type'] = df_eval['Fuel type'].map(freq_fuel_type)\n",
    "df_eval['Drive wheels'] = df_eval['Drive wheels'].map(freq_drive_wheels)\n",
    "df_eval['Mileage'] = df_eval['Mileage'].map(freq_mileage)\n",
    "df_eval['Wheel'] = df_eval['Wheel'].map(freq_wheel)\n",
    "df_eval['Color'] = df_eval['Color'].map(freq_color)\n",
    "\n",
    "df_eval = df_eval.drop('Model', axis=1)\n",
    "df_eval = df_eval.drop('Engine volume', axis=1)\n",
    "df_eval = df_eval.drop('Cylinders', axis=1)\n",
    "df_eval = df_eval.drop('Sales Fee', axis=1)\n",
    "df_eval = df_eval.drop('Color', axis=1)\n",
    "df_eval = df_eval.drop('Mileage', axis=1)\n",
    "df_eval = df_eval.drop('Fuel type', axis=1)\n",
    "df_eval = df_eval.drop('Manufacturer', axis=1)\n",
    "df_eval = df_eval.drop('Leather interior', axis=1)\n",
    "df_eval = df_eval.drop('Drive wheels', axis=1)\n",
    "\n",
    "print(df_eval)"
   ]
  },
  {
   "cell_type": "code",
   "execution_count": null,
   "metadata": {},
   "outputs": [],
   "source": [
    "output = model.predict(df_eval)\n",
    "id_column = df_eval['Id']\n",
    "\n",
    "predicted_df = pd.DataFrame({\n",
    "    'id': id_column,\n",
    "    'price': output\n",
    "})\n",
    "\n",
    "print(predicted_df)"
   ]
  },
  {
   "cell_type": "code",
   "execution_count": null,
   "metadata": {},
   "outputs": [],
   "source": [
    "predicted_df.to_csv('../results/00.csv', index=False)"
   ]
  },
  {
   "cell_type": "code",
   "execution_count": null,
   "metadata": {},
   "outputs": [],
   "source": [
    "import pickle\n",
    "\n",
    "# Guardar el modelo\n",
    "with open('../models/00_modelo_entrenado.pkl', 'wb') as file:\n",
    "    pickle.dump(model, file)"
   ]
  }
 ],
 "metadata": {
  "kernelspec": {
   "display_name": "Python 3",
   "language": "python",
   "name": "python3"
  },
  "language_info": {
   "codemirror_mode": {
    "name": "ipython",
    "version": 3
   },
   "file_extension": ".py",
   "mimetype": "text/x-python",
   "name": "python",
   "nbconvert_exporter": "python",
   "pygments_lexer": "ipython3",
   "version": "3.12.2"
  }
 },
 "nbformat": 4,
 "nbformat_minor": 2
}
